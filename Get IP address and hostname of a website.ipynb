{
 "cells": [
  {
   "cell_type": "code",
   "execution_count": 2,
   "id": "10704d26",
   "metadata": {},
   "outputs": [
    {
     "name": "stdout",
     "output_type": "stream",
     "text": [
      "Hostname :  www.google.com\n",
      "IP :  142.250.181.36\n"
     ]
    }
   ],
   "source": [
    "# Importing socket library\n",
    "import socket\n",
    "\n",
    "# Function to display hostname and\n",
    "# IP address\n",
    "def get_Host_name_IP():\n",
    "    try:\n",
    "        host = \"www.google.com\"\n",
    "        host_ip = socket.gethostbyname(host)\n",
    "        print(\"Hostname : \",host)\n",
    "        print(\"IP : \",host_ip)\n",
    "    except:\n",
    "        print(\"Unable to get Hostname and IP\")\n",
    "\n",
    "get_Host_name_IP() #Function call\n",
    "\n",
    "#This code is contributed by \"Sharad_Bhardwaj\".\n"
   ]
  },
  {
   "cell_type": "code",
   "execution_count": null,
   "id": "28bcb866",
   "metadata": {},
   "outputs": [],
   "source": []
  }
 ],
 "metadata": {
  "kernelspec": {
   "display_name": "Python 3 (ipykernel)",
   "language": "python",
   "name": "python3"
  },
  "language_info": {
   "codemirror_mode": {
    "name": "ipython",
    "version": 3
   },
   "file_extension": ".py",
   "mimetype": "text/x-python",
   "name": "python",
   "nbconvert_exporter": "python",
   "pygments_lexer": "ipython3",
   "version": "3.9.12"
  }
 },
 "nbformat": 4,
 "nbformat_minor": 5
}
